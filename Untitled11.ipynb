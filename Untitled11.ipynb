{
 "cells": [
  {
   "cell_type": "code",
   "execution_count": 1,
   "id": "0f2d2bcc",
   "metadata": {},
   "outputs": [],
   "source": [
    "class BankAccount(object) :\n",
    "    account = 0\n",
    "    def __init__(self, name,balance):\n",
    "        self.name=name\n",
    "        self.balance=balance\n",
    "        self.account+=1\n",
    "        print(\"Hello \", name,\"Your balance is\",balance)\n",
    "    def deposit (self):\n",
    "        d_amount = float(input(\"Enter the amount to be deposit:\"))\n",
    "        self.balance += d_amount\n",
    "        print(\"Deposit is successful and the balance is \", self.balance)\n",
    "    def withdraw (self):\n",
    "            w_amount=float(input(\"Enter the amount to withdraw: \") )\n",
    "            if(self.balance >= w_amount):\n",
    "                self.balance -= w_amount\n",
    "                print(\"The withdraw is successful and the balance is \", self.balance)\n",
    "            else:\n",
    "                  print(\"Insuficient Balance \") \n",
    "            "
   ]
  },
  {
   "cell_type": "code",
   "execution_count": 2,
   "id": "8438b7e1",
   "metadata": {},
   "outputs": [
    {
     "name": "stdout",
     "output_type": "stream",
     "text": [
      "Hello  Nouf Your balance is 1500\n"
     ]
    }
   ],
   "source": [
    "Account_1=BankAccount(\"Nouf\",1500)"
   ]
  },
  {
   "cell_type": "code",
   "execution_count": 3,
   "id": "3ef5d780",
   "metadata": {},
   "outputs": [
    {
     "name": "stdout",
     "output_type": "stream",
     "text": [
      "Enter the amount to be deposit:400\n",
      "Deposit is successful and the balance is  1900.0\n"
     ]
    }
   ],
   "source": [
    "Account_1.deposit()"
   ]
  },
  {
   "cell_type": "code",
   "execution_count": 4,
   "id": "07a4f929",
   "metadata": {},
   "outputs": [
    {
     "name": "stdout",
     "output_type": "stream",
     "text": [
      "Enter the amount to withdraw: 300\n",
      "The withdraw is successful and the balance is  1600.0\n"
     ]
    }
   ],
   "source": [
    "Account_1.withdraw()"
   ]
  },
  {
   "cell_type": "code",
   "execution_count": 5,
   "id": "85c9deb7",
   "metadata": {},
   "outputs": [
    {
     "name": "stdout",
     "output_type": "stream",
     "text": [
      "Hello  Abdullah Your balance is 3000\n"
     ]
    }
   ],
   "source": [
    "Account_2=BankAccount(\"Abdullah\",3000)"
   ]
  },
  {
   "cell_type": "code",
   "execution_count": 6,
   "id": "81da8528",
   "metadata": {},
   "outputs": [
    {
     "name": "stdout",
     "output_type": "stream",
     "text": [
      "Enter the amount to be deposit:50\n",
      "Deposit is successful and the balance is  3050.0\n"
     ]
    }
   ],
   "source": [
    "Account_2.deposit()"
   ]
  },
  {
   "cell_type": "code",
   "execution_count": 7,
   "id": "ff78b4b8",
   "metadata": {},
   "outputs": [
    {
     "name": "stdout",
     "output_type": "stream",
     "text": [
      "Enter the amount to withdraw: 4000\n",
      "Insuficient Balance \n"
     ]
    }
   ],
   "source": [
    "Account_2.withdraw()"
   ]
  },
  {
   "cell_type": "code",
   "execution_count": null,
   "id": "414e5309",
   "metadata": {},
   "outputs": [],
   "source": []
  }
 ],
 "metadata": {
  "kernelspec": {
   "display_name": "Python 3 (ipykernel)",
   "language": "python",
   "name": "python3"
  },
  "language_info": {
   "codemirror_mode": {
    "name": "ipython",
    "version": 3
   },
   "file_extension": ".py",
   "mimetype": "text/x-python",
   "name": "python",
   "nbconvert_exporter": "python",
   "pygments_lexer": "ipython3",
   "version": "3.9.13"
  }
 },
 "nbformat": 4,
 "nbformat_minor": 5
}
